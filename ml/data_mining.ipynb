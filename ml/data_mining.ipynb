{
 "cells": [
  {
   "cell_type": "code",
   "id": "4b1d67bd1edaedb",
   "metadata": {
    "ExecuteTime": {
     "end_time": "2024-06-01T14:10:58.257105Z",
     "start_time": "2024-06-01T14:10:56.393581Z"
    }
   },
   "source": [
    "from subgrounds import Subgrounds\n",
    "import pandas as pd\n",
    "\n",
    "sg = Subgrounds()\n",
    "uniswap_v3 = sg.load_subgraph(\"https://api.thegraph.com/subgraphs/name/uniswap/uniswap-v3\")"
   ],
   "outputs": [],
   "execution_count": 1
  },
  {
   "metadata": {
    "ExecuteTime": {
     "end_time": "2024-06-01T14:10:58.261490Z",
     "start_time": "2024-06-01T14:10:58.258585Z"
    }
   },
   "cell_type": "code",
   "source": [
    "eth_usdc_005_pool = '0x88e6a0c2ddd26feeb64f039a2c41296fcb3f5640'\n",
    "lp_fees = 0.05"
   ],
   "id": "7314643925efa330",
   "outputs": [],
   "execution_count": 2
  },
  {
   "metadata": {
    "ExecuteTime": {
     "end_time": "2024-06-01T14:10:58.269295Z",
     "start_time": "2024-06-01T14:10:58.262381Z"
    }
   },
   "cell_type": "code",
   "source": [
    "pool_day_datas = uniswap_v3.Query.poolDayDatas(\n",
    "    first = 1500,\n",
    "    where={ 'pool': eth_usdc_005_pool},\n",
    "    selection_set=[\n",
    "        uniswap_v3.PoolDayData.date,\n",
    "        uniswap_v3.PoolDayData.volumeUSD,\n",
    "        uniswap_v3.PoolDayData.volumeToken0,\n",
    "        uniswap_v3.PoolDayData.volumeToken1,\n",
    "        uniswap_v3.PoolDayData.liquidity,\n",
    "        uniswap_v3.PoolDayData.sqrtPrice,\n",
    "        uniswap_v3.PoolDayData.tick,\n",
    "    ]\n",
    ")"
   ],
   "id": "f5fb7f9a14efeeb1",
   "outputs": [],
   "execution_count": 3
  },
  {
   "metadata": {
    "ExecuteTime": {
     "end_time": "2024-06-01T14:11:15.356174Z",
     "start_time": "2024-06-01T14:10:58.270227Z"
    }
   },
   "cell_type": "code",
   "source": [
    "pool_day_df = sg.query_df([\n",
    "    pool_day_datas.date,\n",
    "    pool_day_datas.volumeUSD,\n",
    "    pool_day_datas.volumeToken0,\n",
    "    pool_day_datas.volumeToken1,\n",
    "    pool_day_datas.liquidity,\n",
    "    pool_day_datas.sqrtPrice,\n",
    "    pool_day_datas.tick,\n",
    "])"
   ],
   "id": "62936ed07606f338",
   "outputs": [],
   "execution_count": 4
  },
  {
   "metadata": {
    "ExecuteTime": {
     "end_time": "2024-06-01T14:11:15.369443Z",
     "start_time": "2024-06-01T14:11:15.357666Z"
    }
   },
   "cell_type": "code",
   "source": [
    "pool_day_df['date'] = pd.to_datetime(pool_day_df['poolDayDatas_date'], unit='s')\n",
    "print(pool_day_df.shape)\n",
    "pool_day_df.tail()"
   ],
   "id": "8a450e43b5928680",
   "outputs": [
    {
     "name": "stdout",
     "output_type": "stream",
     "text": [
      "(1124, 8)\n"
     ]
    },
    {
     "data": {
      "text/plain": [
       "      poolDayDatas_date  poolDayDatas_volumeUSD  poolDayDatas_volumeToken0  \\\n",
       "1119         1716854400            3.124616e+08               3.124498e+08   \n",
       "1120         1716940800            1.002871e+09               1.002387e+09   \n",
       "1121         1717027200            4.082516e+08               4.083550e+08   \n",
       "1122         1717113600            5.233400e+08               5.234518e+08   \n",
       "1123         1717200000            6.312590e+07               6.315155e+07   \n",
       "\n",
       "      poolDayDatas_volumeToken1  poolDayDatas_liquidity  \\\n",
       "1119               81170.334739    15247759157542641034   \n",
       "1120              266365.328259    15601776730158281529   \n",
       "1121              108746.644083  1751185677919104221280   \n",
       "1122              139043.745647    17568531655938464393   \n",
       "1123               16706.535966    20654517611416424961   \n",
       "\n",
       "                  poolDayDatas_sqrtPrice  poolDayDatas_tick       date  \n",
       "1119  1278678874938191088791505862304148             193789 2024-05-28  \n",
       "1120  1291376875337734729360772501643465             193987 2024-05-29  \n",
       "1121  1294193769663909529613367257164644             194031 2024-05-30  \n",
       "1122  1292001847940125115855171681495361             193997 2024-05-31  \n",
       "1123  1285552206753172438155963628849727             193897 2024-06-01  "
      ],
      "text/html": [
       "<div>\n",
       "<style scoped>\n",
       "    .dataframe tbody tr th:only-of-type {\n",
       "        vertical-align: middle;\n",
       "    }\n",
       "\n",
       "    .dataframe tbody tr th {\n",
       "        vertical-align: top;\n",
       "    }\n",
       "\n",
       "    .dataframe thead th {\n",
       "        text-align: right;\n",
       "    }\n",
       "</style>\n",
       "<table border=\"1\" class=\"dataframe\">\n",
       "  <thead>\n",
       "    <tr style=\"text-align: right;\">\n",
       "      <th></th>\n",
       "      <th>poolDayDatas_date</th>\n",
       "      <th>poolDayDatas_volumeUSD</th>\n",
       "      <th>poolDayDatas_volumeToken0</th>\n",
       "      <th>poolDayDatas_volumeToken1</th>\n",
       "      <th>poolDayDatas_liquidity</th>\n",
       "      <th>poolDayDatas_sqrtPrice</th>\n",
       "      <th>poolDayDatas_tick</th>\n",
       "      <th>date</th>\n",
       "    </tr>\n",
       "  </thead>\n",
       "  <tbody>\n",
       "    <tr>\n",
       "      <th>1119</th>\n",
       "      <td>1716854400</td>\n",
       "      <td>3.124616e+08</td>\n",
       "      <td>3.124498e+08</td>\n",
       "      <td>81170.334739</td>\n",
       "      <td>15247759157542641034</td>\n",
       "      <td>1278678874938191088791505862304148</td>\n",
       "      <td>193789</td>\n",
       "      <td>2024-05-28</td>\n",
       "    </tr>\n",
       "    <tr>\n",
       "      <th>1120</th>\n",
       "      <td>1716940800</td>\n",
       "      <td>1.002871e+09</td>\n",
       "      <td>1.002387e+09</td>\n",
       "      <td>266365.328259</td>\n",
       "      <td>15601776730158281529</td>\n",
       "      <td>1291376875337734729360772501643465</td>\n",
       "      <td>193987</td>\n",
       "      <td>2024-05-29</td>\n",
       "    </tr>\n",
       "    <tr>\n",
       "      <th>1121</th>\n",
       "      <td>1717027200</td>\n",
       "      <td>4.082516e+08</td>\n",
       "      <td>4.083550e+08</td>\n",
       "      <td>108746.644083</td>\n",
       "      <td>1751185677919104221280</td>\n",
       "      <td>1294193769663909529613367257164644</td>\n",
       "      <td>194031</td>\n",
       "      <td>2024-05-30</td>\n",
       "    </tr>\n",
       "    <tr>\n",
       "      <th>1122</th>\n",
       "      <td>1717113600</td>\n",
       "      <td>5.233400e+08</td>\n",
       "      <td>5.234518e+08</td>\n",
       "      <td>139043.745647</td>\n",
       "      <td>17568531655938464393</td>\n",
       "      <td>1292001847940125115855171681495361</td>\n",
       "      <td>193997</td>\n",
       "      <td>2024-05-31</td>\n",
       "    </tr>\n",
       "    <tr>\n",
       "      <th>1123</th>\n",
       "      <td>1717200000</td>\n",
       "      <td>6.312590e+07</td>\n",
       "      <td>6.315155e+07</td>\n",
       "      <td>16706.535966</td>\n",
       "      <td>20654517611416424961</td>\n",
       "      <td>1285552206753172438155963628849727</td>\n",
       "      <td>193897</td>\n",
       "      <td>2024-06-01</td>\n",
       "    </tr>\n",
       "  </tbody>\n",
       "</table>\n",
       "</div>"
      ]
     },
     "execution_count": 5,
     "metadata": {},
     "output_type": "execute_result"
    }
   ],
   "execution_count": 5
  },
  {
   "metadata": {
    "ExecuteTime": {
     "end_time": "2024-06-01T15:14:02.658851Z",
     "start_time": "2024-06-01T14:22:39.732162Z"
    }
   },
   "cell_type": "code",
   "source": [
    "swaps = uniswap_v3.Query.swaps(\n",
    "    first = 300000,\n",
    "    where={'pool': eth_usdc_005_pool},\n",
    "    selection_set=[\n",
    "        uniswap_v3.Swap.timestamp,\n",
    "        uniswap_v3.Swap.transaction.id,\n",
    "        uniswap_v3.Swap.transaction.gasUsed,\n",
    "        uniswap_v3.Swap.transaction.gasPrice,\n",
    "    ]\n",
    ")\n",
    "\n",
    "swaps_df = sg.query_df([\n",
    "    swaps.timestamp,\n",
    "    swaps.transaction.id,\n",
    "    swaps.transaction.gasUsed,\n",
    "    swaps.transaction.gasPrice,\n",
    "])"
   ],
   "id": "1aeef71aaea0b1b0",
   "outputs": [],
   "execution_count": 24
  },
  {
   "metadata": {
    "ExecuteTime": {
     "end_time": "2024-06-01T15:14:02.722967Z",
     "start_time": "2024-06-01T15:14:02.660457Z"
    }
   },
   "cell_type": "code",
   "source": [
    "swaps_df['timestamp'] = pd.to_datetime(swaps_df['swaps_timestamp'], unit='s')\n",
    "swaps_df['date'] = swaps_df['timestamp'].dt.date\n",
    "avg_gas_price_df = swaps_df.groupby('date').agg({'swaps_transaction_gasPrice': 'mean'}).reset_index()"
   ],
   "id": "e9954375c595a1bc",
   "outputs": [],
   "execution_count": 25
  },
  {
   "metadata": {
    "ExecuteTime": {
     "end_time": "2024-06-01T15:14:02.732192Z",
     "start_time": "2024-06-01T15:14:02.724208Z"
    }
   },
   "cell_type": "code",
   "source": "swaps_df.tail()",
   "id": "38df87c598fc19f1",
   "outputs": [
    {
     "data": {
      "text/plain": [
       "        swaps_timestamp                               swaps_transaction_id  \\\n",
       "299900       1674153875  0x0b586d5c2d59f40c17785d3dc3f93c3942545e3be817...   \n",
       "299901       1626285930  0x0b586fcdb8103ffddf65d48405070d2278331555bb1f...   \n",
       "299902       1669100423  0x0b587161f7fd8e8d1052c6a08e40d6ea3aa0f224598a...   \n",
       "299903       1645285946  0x0b587207b05390466b373d7688ce113cbbde942453f6...   \n",
       "299904       1699751927  0x0b5874502698f3783ebd534eea5aa5d66d66db8141ba...   \n",
       "...                 ...                                                ...   \n",
       "299995       1647535142  0x0b59551ba3e988ea6b35e3fe0f821cc8ea652acf5cf1...   \n",
       "299996       1665073811  0x0b595747fd0e809a7b7b05893f8b61139a8cb50562e7...   \n",
       "299997       1680929399  0x0b595a3315bdc5dc5877f7123ad2640d84f29a310e58...   \n",
       "299998       1690228403  0x0b595af8aa834c6c1f9b7a06e56a74920c24ac0bdf3d...   \n",
       "299999       1713157979  0x0b595f3e139ea799d240fca11805623f931b2df14b98...   \n",
       "\n",
       "        swaps_transaction_gasUsed  swaps_transaction_gasPrice  \\\n",
       "299900                     310766                 23703154311   \n",
       "299901                     169774                 39000000000   \n",
       "299902                     409228                 11604753163   \n",
       "299903                    1200000                 67958823992   \n",
       "299904                     251998                 22311882261   \n",
       "...                           ...                         ...   \n",
       "299995                     194385                136587625924   \n",
       "299996                     263062                 15272376380   \n",
       "299997                     382629                 18725526088   \n",
       "299998                     357290                 41069575942   \n",
       "299999                     684295                  7809160665   \n",
       "\n",
       "                 timestamp        date  \n",
       "299900 2023-01-19 18:44:35  2023-01-19  \n",
       "299901 2021-07-14 18:05:30  2021-07-14  \n",
       "299902 2022-11-22 07:00:23  2022-11-22  \n",
       "299903 2022-02-19 15:52:26  2022-02-19  \n",
       "299904 2023-11-12 01:18:47  2023-11-12  \n",
       "...                    ...         ...  \n",
       "299995 2022-03-17 16:39:02  2022-03-17  \n",
       "299996 2022-10-06 16:30:11  2022-10-06  \n",
       "299997 2023-04-08 04:49:59  2023-04-08  \n",
       "299998 2023-07-24 19:53:23  2023-07-24  \n",
       "299999 2024-04-15 05:12:59  2024-04-15  \n",
       "\n",
       "[100 rows x 6 columns]"
      ],
      "text/html": [
       "<div>\n",
       "<style scoped>\n",
       "    .dataframe tbody tr th:only-of-type {\n",
       "        vertical-align: middle;\n",
       "    }\n",
       "\n",
       "    .dataframe tbody tr th {\n",
       "        vertical-align: top;\n",
       "    }\n",
       "\n",
       "    .dataframe thead th {\n",
       "        text-align: right;\n",
       "    }\n",
       "</style>\n",
       "<table border=\"1\" class=\"dataframe\">\n",
       "  <thead>\n",
       "    <tr style=\"text-align: right;\">\n",
       "      <th></th>\n",
       "      <th>swaps_timestamp</th>\n",
       "      <th>swaps_transaction_id</th>\n",
       "      <th>swaps_transaction_gasUsed</th>\n",
       "      <th>swaps_transaction_gasPrice</th>\n",
       "      <th>timestamp</th>\n",
       "      <th>date</th>\n",
       "    </tr>\n",
       "  </thead>\n",
       "  <tbody>\n",
       "    <tr>\n",
       "      <th>299900</th>\n",
       "      <td>1674153875</td>\n",
       "      <td>0x0b586d5c2d59f40c17785d3dc3f93c3942545e3be817...</td>\n",
       "      <td>310766</td>\n",
       "      <td>23703154311</td>\n",
       "      <td>2023-01-19 18:44:35</td>\n",
       "      <td>2023-01-19</td>\n",
       "    </tr>\n",
       "    <tr>\n",
       "      <th>299901</th>\n",
       "      <td>1626285930</td>\n",
       "      <td>0x0b586fcdb8103ffddf65d48405070d2278331555bb1f...</td>\n",
       "      <td>169774</td>\n",
       "      <td>39000000000</td>\n",
       "      <td>2021-07-14 18:05:30</td>\n",
       "      <td>2021-07-14</td>\n",
       "    </tr>\n",
       "    <tr>\n",
       "      <th>299902</th>\n",
       "      <td>1669100423</td>\n",
       "      <td>0x0b587161f7fd8e8d1052c6a08e40d6ea3aa0f224598a...</td>\n",
       "      <td>409228</td>\n",
       "      <td>11604753163</td>\n",
       "      <td>2022-11-22 07:00:23</td>\n",
       "      <td>2022-11-22</td>\n",
       "    </tr>\n",
       "    <tr>\n",
       "      <th>299903</th>\n",
       "      <td>1645285946</td>\n",
       "      <td>0x0b587207b05390466b373d7688ce113cbbde942453f6...</td>\n",
       "      <td>1200000</td>\n",
       "      <td>67958823992</td>\n",
       "      <td>2022-02-19 15:52:26</td>\n",
       "      <td>2022-02-19</td>\n",
       "    </tr>\n",
       "    <tr>\n",
       "      <th>299904</th>\n",
       "      <td>1699751927</td>\n",
       "      <td>0x0b5874502698f3783ebd534eea5aa5d66d66db8141ba...</td>\n",
       "      <td>251998</td>\n",
       "      <td>22311882261</td>\n",
       "      <td>2023-11-12 01:18:47</td>\n",
       "      <td>2023-11-12</td>\n",
       "    </tr>\n",
       "    <tr>\n",
       "      <th>...</th>\n",
       "      <td>...</td>\n",
       "      <td>...</td>\n",
       "      <td>...</td>\n",
       "      <td>...</td>\n",
       "      <td>...</td>\n",
       "      <td>...</td>\n",
       "    </tr>\n",
       "    <tr>\n",
       "      <th>299995</th>\n",
       "      <td>1647535142</td>\n",
       "      <td>0x0b59551ba3e988ea6b35e3fe0f821cc8ea652acf5cf1...</td>\n",
       "      <td>194385</td>\n",
       "      <td>136587625924</td>\n",
       "      <td>2022-03-17 16:39:02</td>\n",
       "      <td>2022-03-17</td>\n",
       "    </tr>\n",
       "    <tr>\n",
       "      <th>299996</th>\n",
       "      <td>1665073811</td>\n",
       "      <td>0x0b595747fd0e809a7b7b05893f8b61139a8cb50562e7...</td>\n",
       "      <td>263062</td>\n",
       "      <td>15272376380</td>\n",
       "      <td>2022-10-06 16:30:11</td>\n",
       "      <td>2022-10-06</td>\n",
       "    </tr>\n",
       "    <tr>\n",
       "      <th>299997</th>\n",
       "      <td>1680929399</td>\n",
       "      <td>0x0b595a3315bdc5dc5877f7123ad2640d84f29a310e58...</td>\n",
       "      <td>382629</td>\n",
       "      <td>18725526088</td>\n",
       "      <td>2023-04-08 04:49:59</td>\n",
       "      <td>2023-04-08</td>\n",
       "    </tr>\n",
       "    <tr>\n",
       "      <th>299998</th>\n",
       "      <td>1690228403</td>\n",
       "      <td>0x0b595af8aa834c6c1f9b7a06e56a74920c24ac0bdf3d...</td>\n",
       "      <td>357290</td>\n",
       "      <td>41069575942</td>\n",
       "      <td>2023-07-24 19:53:23</td>\n",
       "      <td>2023-07-24</td>\n",
       "    </tr>\n",
       "    <tr>\n",
       "      <th>299999</th>\n",
       "      <td>1713157979</td>\n",
       "      <td>0x0b595f3e139ea799d240fca11805623f931b2df14b98...</td>\n",
       "      <td>684295</td>\n",
       "      <td>7809160665</td>\n",
       "      <td>2024-04-15 05:12:59</td>\n",
       "      <td>2024-04-15</td>\n",
       "    </tr>\n",
       "  </tbody>\n",
       "</table>\n",
       "<p>100 rows × 6 columns</p>\n",
       "</div>"
      ]
     },
     "execution_count": 26,
     "metadata": {},
     "output_type": "execute_result"
    }
   ],
   "execution_count": 26
  },
  {
   "metadata": {
    "ExecuteTime": {
     "end_time": "2024-06-01T15:51:53.927720Z",
     "start_time": "2024-06-01T15:51:53.911220Z"
    }
   },
   "cell_type": "code",
   "source": [
    "merged_df = pd.merge(pool_day_df, avg_gas_price_df, left_on=pool_day_df['date'].dt.date, right_on='date', how='left')\n",
    "\n",
    "# Drop the duplicate date column\n",
    "merged_df.drop(columns=['date_y'], inplace=True)\n",
    "merged_df.rename(columns={'date_x': 'date', 'swaps_transaction_gasPrice': 'avgGasPrice'}, inplace=True)\n",
    "\n",
    "merged_df.tail()\n",
    "merged_df.to_csv('./df.csv', index=False)"
   ],
   "id": "902015904d483a79",
   "outputs": [
    {
     "ename": "NameError",
     "evalue": "name 'pool_day_df' is not defined",
     "output_type": "error",
     "traceback": [
      "\u001B[0;31m---------------------------------------------------------------------------\u001B[0m",
      "\u001B[0;31mNameError\u001B[0m                                 Traceback (most recent call last)",
      "Cell \u001B[0;32mIn[35], line 1\u001B[0m\n\u001B[0;32m----> 1\u001B[0m merged_df \u001B[38;5;241m=\u001B[39m pd\u001B[38;5;241m.\u001B[39mmerge(\u001B[43mpool_day_df\u001B[49m, avg_gas_price_df, left_on\u001B[38;5;241m=\u001B[39mpool_day_df[\u001B[38;5;124m'\u001B[39m\u001B[38;5;124mdate\u001B[39m\u001B[38;5;124m'\u001B[39m]\u001B[38;5;241m.\u001B[39mdt\u001B[38;5;241m.\u001B[39mdate, right_on\u001B[38;5;241m=\u001B[39m\u001B[38;5;124m'\u001B[39m\u001B[38;5;124mdate\u001B[39m\u001B[38;5;124m'\u001B[39m, how\u001B[38;5;241m=\u001B[39m\u001B[38;5;124m'\u001B[39m\u001B[38;5;124mleft\u001B[39m\u001B[38;5;124m'\u001B[39m)\n\u001B[1;32m      3\u001B[0m \u001B[38;5;66;03m# Drop the duplicate date column\u001B[39;00m\n\u001B[1;32m      4\u001B[0m merged_df\u001B[38;5;241m.\u001B[39mdrop(columns\u001B[38;5;241m=\u001B[39m[\u001B[38;5;124m'\u001B[39m\u001B[38;5;124mdate_y\u001B[39m\u001B[38;5;124m'\u001B[39m], inplace\u001B[38;5;241m=\u001B[39m\u001B[38;5;28;01mTrue\u001B[39;00m)\n",
      "\u001B[0;31mNameError\u001B[0m: name 'pool_day_df' is not defined"
     ]
    }
   ],
   "execution_count": 35
  }
 ],
 "metadata": {
  "kernelspec": {
   "display_name": "Python 3 (ipykernel)",
   "language": "python",
   "name": "python3"
  },
  "language_info": {
   "codemirror_mode": {
    "name": "ipython",
    "version": 3
   },
   "file_extension": ".py",
   "mimetype": "text/x-python",
   "name": "python",
   "nbconvert_exporter": "python",
   "pygments_lexer": "ipython3",
   "version": "3.10.5"
  }
 },
 "nbformat": 4,
 "nbformat_minor": 5
}
